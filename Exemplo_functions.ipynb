{
  "nbformat": 4,
  "nbformat_minor": 0,
  "metadata": {
    "colab": {
      "provenance": []
    },
    "kernelspec": {
      "name": "python3",
      "display_name": "Python 3"
    },
    "language_info": {
      "name": "python"
    }
  },
  "cells": [
    {
      "cell_type": "code",
      "execution_count": null,
      "metadata": {
        "colab": {
          "base_uri": "https://localhost:8080/"
        },
        "id": "Aqde7SD28QYL",
        "outputId": "731f18ed-24de-4262-e19d-a6e3a3c1c05d"
      },
      "outputs": [
        {
          "output_type": "stream",
          "name": "stdout",
          "text": [
            "Looking in indexes: https://pypi.org/simple, https://us-python.pkg.dev/colab-wheels/public/simple/\n",
            "Collecting pyspark\n",
            "  Downloading pyspark-3.3.0.tar.gz (281.3 MB)\n",
            "\u001b[K     |████████████████████████████████| 281.3 MB 40 kB/s \n",
            "\u001b[?25hCollecting py4j==0.10.9.5\n",
            "  Downloading py4j-0.10.9.5-py2.py3-none-any.whl (199 kB)\n",
            "\u001b[K     |████████████████████████████████| 199 kB 59.2 MB/s \n",
            "\u001b[?25hBuilding wheels for collected packages: pyspark\n",
            "  Building wheel for pyspark (setup.py) ... \u001b[?25l\u001b[?25hdone\n",
            "  Created wheel for pyspark: filename=pyspark-3.3.0-py2.py3-none-any.whl size=281764026 sha256=681963627b841eb8809cebc0830e38d58ad51774ad6c18f4ee4992656c91ba3c\n",
            "  Stored in directory: /root/.cache/pip/wheels/7a/8e/1b/f73a52650d2e5f337708d9f6a1750d451a7349a867f928b885\n",
            "Successfully built pyspark\n",
            "Installing collected packages: py4j, pyspark\n",
            "Successfully installed py4j-0.10.9.5 pyspark-3.3.0\n"
          ]
        }
      ],
      "source": [
        "!pip install pyspark"
      ]
    },
    {
      "cell_type": "code",
      "source": [
        "from pyspark.sql import SparkSession\n",
        "from pyspark.sql import functions as f\n",
        "\n",
        "spark = SparkSession.builder.appName(\"SparkStreaming\").getOrCreate()"
      ],
      "metadata": {
        "id": "EMl2vQmh8UAV"
      },
      "execution_count": null,
      "outputs": []
    },
    {
      "cell_type": "code",
      "source": [
        "tweets=[\n",
        "    [\"Estou muito animado com esse projeto! Esse sim vai m... https://t.co/u4EGCRvwPb\"],\n",
        "    [\"@danpsiqueira @Rodrigo A área de engenharia de dados só vai crescer\"],\n",
        "    [\"RT @Rodrigotechlead: Eu estou preparando uma formação inédita para todos que queiram começar na área\"],\n",
        "    [\"RT @Davidneves: O meu objetivo é converter o maior número de bolas de 3 no jogo\"],\n",
        "    [\"RT @RomuloSM: https://t.co/yuoLpFEboa\"],\n",
        "    [\"@Renato @David Sucesso total que fala...\"],\n",
        "    [\"RT @MariaDB: Meus gatos são muito lindos, e eu posso provar\"],\n",
        "    [\"RT @beatriz2801: Não vejo a hora de produzir o curso de Dax avançado....\"],\n",
        "    [\"@Afonso Vou fazer um dashboard do @Flamengo  💪❤️🖤\\n#CRF #VamosFlamengo https://t.co/6Uhokyh6YL\"],\n",
        "    [\"RT @Libertadores: 🙌 ¡Los equipos ya clasificados a los octavos de final de la CONMEBOL #Libertadores!\\n🇦🇷 @EdelpOficial y @CATalleresdecba…\"],\n",
        "    [\"RT @MillenaG: @Igor Deixa eu te falar então...\\nSim. Os engenheiros do açaí vem com tudo\"],\n",
        "]"
      ],
      "metadata": {
        "id": "RVFLABQc8Xh7"
      },
      "execution_count": null,
      "outputs": []
    },
    {
      "cell_type": "code",
      "source": [
        "tweets = spark.createDataFrame(tweets, ['tweets'])"
      ],
      "metadata": {
        "id": "hx32kSir8iTe"
      },
      "execution_count": null,
      "outputs": []
    },
    {
      "cell_type": "code",
      "source": [
        "tweets.show(truncate=False)"
      ],
      "metadata": {
        "colab": {
          "base_uri": "https://localhost:8080/"
        },
        "id": "I1OwcQ6Q8yeT",
        "outputId": "2fd09d54-261a-40db-89ba-92183396be69"
      },
      "execution_count": null,
      "outputs": [
        {
          "output_type": "stream",
          "name": "stdout",
          "text": [
            "+----------------------------------------------------------------------------------------------------------------------------------------------+\n",
            "|tweets                                                                                                                                        |\n",
            "+----------------------------------------------------------------------------------------------------------------------------------------------+\n",
            "|Estou muito animado com esse projeto! Esse sim vai m... https://t.co/u4EGCRvwPb                                                               |\n",
            "|@danpsiqueira @Rodrigo A área de engenharia de dados só vai crescer                                                                           |\n",
            "|RT @Rodrigotechlead: Eu estou preparando uma formação inédita para todos que queiram começar na área                                          |\n",
            "|RT @Davidneves: O meu objetivo é converter o maior número de bolas de 3 no jogo                                                               |\n",
            "|RT @RomuloSM: https://t.co/yuoLpFEboa                                                                                                         |\n",
            "|@Renato @David Sucesso total que fala...                                                                                                      |\n",
            "|RT @MariaDB: Meus gatos são muito lindos, e eu posso provar                                                                                   |\n",
            "|RT @beatriz2801: Não vejo a hora de produzir o curso de Dax avançado....                                                                      |\n",
            "|@Afonso Vou fazer um dashboard do @Flamengo  💪❤️🖤\\n#CRF #VamosFlamengo https://t.co/6Uhokyh6YL                                              |\n",
            "|RT @Libertadores: 🙌 ¡Los equipos ya clasificados a los octavos de final de la CONMEBOL #Libertadores!\\n🇦🇷 @EdelpOficial y @CATalleresdecba…|\n",
            "|RT @MillenaG: @Igor Deixa eu te falar então...\\nSim. Os engenheiros do açaí vem com tudo                                                      |\n",
            "+----------------------------------------------------------------------------------------------------------------------------------------------+\n",
            "\n"
          ]
        }
      ]
    },
    {
      "cell_type": "code",
      "source": [
        "type(tweets)"
      ],
      "metadata": {
        "colab": {
          "base_uri": "https://localhost:8080/"
        },
        "id": "sZcGq7he_eUn",
        "outputId": "b4969158-91ae-40d4-c148-052ce7bb1ca2"
      },
      "execution_count": null,
      "outputs": [
        {
          "output_type": "execute_result",
          "data": {
            "text/plain": [
              "pyspark.sql.dataframe.DataFrame"
            ]
          },
          "metadata": {},
          "execution_count": 15
        }
      ]
    },
    {
      "cell_type": "code",
      "source": [
        "tweets\\\n",
        "    .select(f.split('tweets', \" \").alias('word'))\\\n",
        "    .show(truncate=False)"
      ],
      "metadata": {
        "colab": {
          "base_uri": "https://localhost:8080/"
        },
        "id": "ZQ28sT6a_hGR",
        "outputId": "e5236522-7634-4a87-eb0d-07452f239770"
      },
      "execution_count": null,
      "outputs": [
        {
          "output_type": "stream",
          "name": "stdout",
          "text": [
            "+------------------------------------------------------------------------------------------------------------------------------------------------------------------+\n",
            "|word                                                                                                                                                              |\n",
            "+------------------------------------------------------------------------------------------------------------------------------------------------------------------+\n",
            "|[Estou, muito, animado, com, esse, projeto!, Esse, sim, vai, m..., https://t.co/u4EGCRvwPb]                                                                       |\n",
            "|[@danpsiqueira, @Rodrigo, A, área, de, engenharia, de, dados, só, vai, crescer]                                                                                   |\n",
            "|[RT, @Rodrigotechlead:, Eu, estou, preparando, uma, formação, inédita, para, todos, que, queiram, começar, na, área]                                              |\n",
            "|[RT, @Davidneves:, O, meu, objetivo, é, converter, o, maior, número, de, bolas, de, 3, no, jogo]                                                                  |\n",
            "|[RT, @RomuloSM:, https://t.co/yuoLpFEboa]                                                                                                                         |\n",
            "|[@Renato, @David, Sucesso, total, que, fala...]                                                                                                                   |\n",
            "|[RT, @MariaDB:, Meus, gatos, são, muito, lindos,, e, eu, posso, provar]                                                                                           |\n",
            "|[RT, @beatriz2801:, Não, vejo, a, hora, de, produzir, o, curso, de, Dax, avançado....]                                                                            |\n",
            "|[@Afonso, Vou, fazer, um, dashboard, do, @Flamengo, , 💪❤️🖤\\n#CRF, #VamosFlamengo, https://t.co/6Uhokyh6YL]                                                      |\n",
            "|[RT, @Libertadores:, 🙌, ¡Los, equipos, ya, clasificados, a, los, octavos, de, final, de, la, CONMEBOL, #Libertadores!\\n🇦🇷, @EdelpOficial, y, @CATalleresdecba…]|\n",
            "|[RT, @MillenaG:, @Igor, Deixa, eu, te, falar, então...\\nSim., Os, engenheiros, do, açaí, vem, com, tudo]                                                          |\n",
            "+------------------------------------------------------------------------------------------------------------------------------------------------------------------+\n",
            "\n"
          ]
        }
      ]
    },
    {
      "cell_type": "code",
      "source": [
        "tweets\\\n",
        "    .select(f.explode(f.split('tweets', \" \")).alias('word'))\\\n",
        "    .show(50, truncate=False)"
      ],
      "metadata": {
        "colab": {
          "base_uri": "https://localhost:8080/"
        },
        "id": "HHWheId1lqTZ",
        "outputId": "280b92df-0640-4b59-f833-bf07e1c6b28e"
      },
      "execution_count": null,
      "outputs": [
        {
          "output_type": "stream",
          "name": "stdout",
          "text": [
            "+-----------------------+\n",
            "|word                   |\n",
            "+-----------------------+\n",
            "|Estou                  |\n",
            "|muito                  |\n",
            "|animado                |\n",
            "|com                    |\n",
            "|esse                   |\n",
            "|projeto!               |\n",
            "|Esse                   |\n",
            "|sim                    |\n",
            "|vai                    |\n",
            "|m...                   |\n",
            "|https://t.co/u4EGCRvwPb|\n",
            "|@danpsiqueira          |\n",
            "|@Rodrigo               |\n",
            "|A                      |\n",
            "|área                   |\n",
            "|de                     |\n",
            "|engenharia             |\n",
            "|de                     |\n",
            "|dados                  |\n",
            "|só                     |\n",
            "|vai                    |\n",
            "|crescer                |\n",
            "|RT                     |\n",
            "|@Rodrigotechlead:      |\n",
            "|Eu                     |\n",
            "|estou                  |\n",
            "|preparando             |\n",
            "|uma                    |\n",
            "|formação               |\n",
            "|inédita                |\n",
            "|para                   |\n",
            "|todos                  |\n",
            "|que                    |\n",
            "|queiram                |\n",
            "|começar                |\n",
            "|na                     |\n",
            "|área                   |\n",
            "|RT                     |\n",
            "|@Davidneves:           |\n",
            "|O                      |\n",
            "|meu                    |\n",
            "|objetivo               |\n",
            "|é                      |\n",
            "|converter              |\n",
            "|o                      |\n",
            "|maior                  |\n",
            "|número                 |\n",
            "|de                     |\n",
            "|bolas                  |\n",
            "|de                     |\n",
            "+-----------------------+\n",
            "only showing top 50 rows\n",
            "\n"
          ]
        }
      ]
    },
    {
      "cell_type": "code",
      "source": [
        "tweets\\\n",
        "    .select(f.explode(f.split('tweets', \" \")).alias('word'))\\\n",
        "    .withColumn('word', f.regexp_replace('word', r'http\\S+', ''))\\\n",
        "    .withColumn('word', f.regexp_replace('word', '@\\w+', ''))\\\n",
        "    .withColumn('word', f.regexp_replace('word', '#', ''))\\\n",
        "    .withColumn('word', f.regexp_replace('word', 'RT', ''))\\\n",
        "    .withColumn('word', f.regexp_replace('word', ':', ''))\\\n",
        "    .na.replace('', None)\\\n",
        "    .na.drop()\\\n",
        "    .show(50, truncate=False)"
      ],
      "metadata": {
        "colab": {
          "base_uri": "https://localhost:8080/"
        },
        "id": "LDcAytugACXG",
        "outputId": "d2127409-b9b7-4825-c721-132525ba21a8"
      },
      "execution_count": null,
      "outputs": [
        {
          "output_type": "stream",
          "name": "stdout",
          "text": [
            "+----------+\n",
            "|word      |\n",
            "+----------+\n",
            "|Estou     |\n",
            "|muito     |\n",
            "|animado   |\n",
            "|com       |\n",
            "|esse      |\n",
            "|projeto!  |\n",
            "|Esse      |\n",
            "|sim       |\n",
            "|vai       |\n",
            "|m...      |\n",
            "|A         |\n",
            "|área      |\n",
            "|de        |\n",
            "|engenharia|\n",
            "|de        |\n",
            "|dados     |\n",
            "|só        |\n",
            "|vai       |\n",
            "|crescer   |\n",
            "|Eu        |\n",
            "|estou     |\n",
            "|preparando|\n",
            "|uma       |\n",
            "|formação  |\n",
            "|inédita   |\n",
            "|para      |\n",
            "|todos     |\n",
            "|que       |\n",
            "|queiram   |\n",
            "|começar   |\n",
            "|na        |\n",
            "|área      |\n",
            "|O         |\n",
            "|meu       |\n",
            "|objetivo  |\n",
            "|é         |\n",
            "|converter |\n",
            "|o         |\n",
            "|maior     |\n",
            "|número    |\n",
            "|de        |\n",
            "|bolas     |\n",
            "|de        |\n",
            "|3         |\n",
            "|no        |\n",
            "|jogo      |\n",
            "|Sucesso   |\n",
            "|total     |\n",
            "|que       |\n",
            "|fala...   |\n",
            "+----------+\n",
            "only showing top 50 rows\n",
            "\n"
          ]
        }
      ]
    }
  ]
}